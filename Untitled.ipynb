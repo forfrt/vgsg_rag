{
 "cells": [
  {
   "cell_type": "code",
   "execution_count": null,
   "id": "9b3b6122-086e-4f72-ac25-31d0bd0737cf",
   "metadata": {},
   "outputs": [],
   "source": [
    "[[0, 0],\n",
    " [0, 0]]"
   ]
  },
  {
   "cell_type": "code",
   "execution_count": 26,
   "id": "23149795-0583-4638-aaf1-9e9e3963ef2b",
   "metadata": {},
   "outputs": [],
   "source": [
    "# count_route=0\n",
    "\n",
    "def matrix_routing(dest, start=(0, 0)):\n",
    "    # left_route=0; top_route=0;\n",
    "    if dest==start:\n",
    "        print(\"Route\")\n",
    "        return 1;\n",
    "\n",
    "    left_route=0;top_route=0;\n",
    "    if dest[0]-1>=0:\n",
    "        left_route=matrix_routing((dest[0]-1, dest[1]))\n",
    "        print(\"left_route\", left_route)\n",
    "        \n",
    "    if dest[1]-1>=0:\n",
    "        top_route=matrix_routing((dest[0], dest[1]-1))\n",
    "        print(\"top_route\", top_route)\n",
    "    \n",
    "    return left_route+top_route\n",
    "    "
   ]
  },
  {
   "cell_type": "code",
   "execution_count": 30,
   "id": "2f9677cb-47f2-43c8-ad8c-fab2c1479983",
   "metadata": {},
   "outputs": [
    {
     "name": "stdout",
     "output_type": "stream",
     "text": [
      "Route\n",
      "top_route 1\n",
      "left_route 1\n",
      "Route\n",
      "left_route 1\n",
      "top_route 1\n",
      "count_route 2\n"
     ]
    }
   ],
   "source": [
    "count_route=matrix_routing((1, 1))\n",
    "print(\"count_route\", count_route)"
   ]
  }
 ],
 "metadata": {
  "kernelspec": {
   "display_name": "Python 3 (ipykernel)",
   "language": "python",
   "name": "python3"
  },
  "language_info": {
   "codemirror_mode": {
    "name": "ipython",
    "version": 3
   },
   "file_extension": ".py",
   "mimetype": "text/x-python",
   "name": "python",
   "nbconvert_exporter": "python",
   "pygments_lexer": "ipython3",
   "version": "3.11.9"
  }
 },
 "nbformat": 4,
 "nbformat_minor": 5
}
